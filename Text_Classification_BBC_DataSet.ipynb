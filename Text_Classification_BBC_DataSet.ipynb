{
  "nbformat": 4,
  "nbformat_minor": 0,
  "metadata": {
    "colab": {
      "name": "Text Classification BBC DataSet.ipynb",
      "provenance": []
    },
    "kernelspec": {
      "name": "python3",
      "display_name": "Python 3"
    },
    "accelerator": "GPU"
  },
  "cells": [
    {
      "cell_type": "code",
      "metadata": {
        "id": "Wk9ZKnY5Tu9W"
      },
      "source": [
        "import numpy as np\n",
        "import tensorflow as tf \n",
        "from tensorflow.keras.preprocessing.text import Tokenizer\n",
        "from tensorflow.keras.preprocessing.sequence import pad_sequences\n",
        "import csv\n",
        "import nltk"
      ],
      "execution_count": null,
      "outputs": []
    },
    {
      "cell_type": "code",
      "metadata": {
        "colab": {
          "base_uri": "https://localhost:8080/"
        },
        "id": "TzQB0BJolJ-c",
        "outputId": "3ebfad20-9cf2-463c-b6a4-8ecd5d68cad8"
      },
      "source": [
        "from google.colab import drive\n",
        "drive.mount('/content/drive')"
      ],
      "execution_count": null,
      "outputs": [
        {
          "output_type": "stream",
          "text": [
            "Mounted at /content/drive\n"
          ],
          "name": "stdout"
        }
      ]
    },
    {
      "cell_type": "code",
      "metadata": {
        "colab": {
          "base_uri": "https://localhost:8080/"
        },
        "id": "EF5hjASFUwLv",
        "outputId": "ce6a60de-2689-4b9b-d91d-922a003f307e"
      },
      "source": [
        "!wget --no-check-certificate \\https://storage.googleapis.com/dataset-uploader/bbc/bbc-text.csv\\\n",
        "  -O /tmp/bbc-text.csv"
      ],
      "execution_count": null,
      "outputs": [
        {
          "output_type": "stream",
          "text": [
            "--2020-11-26 12:41:07--  https://storage.googleapis.com/dataset-uploader/bbc/bbc-text.csv\n",
            "Resolving storage.googleapis.com (storage.googleapis.com)... 74.125.20.128, 74.125.197.128, 74.125.142.128, ...\n",
            "Connecting to storage.googleapis.com (storage.googleapis.com)|74.125.20.128|:443... connected.\n",
            "HTTP request sent, awaiting response... 200 OK\n",
            "Length: 5057493 (4.8M) [text/csv]\n",
            "Saving to: ‘/tmp/bbc-text.csv’\n",
            "\n",
            "\r/tmp/bbc-text.csv     0%[                    ]       0  --.-KB/s               \r/tmp/bbc-text.csv   100%[===================>]   4.82M  --.-KB/s    in 0.03s   \n",
            "\n",
            "2020-11-26 12:41:07 (188 MB/s) - ‘/tmp/bbc-text.csv’ saved [5057493/5057493]\n",
            "\n"
          ],
          "name": "stdout"
        }
      ]
    },
    {
      "cell_type": "code",
      "metadata": {
        "id": "8lh9rJtsXIqr"
      },
      "source": [
        "voc_size = 1000\n",
        "embedding_dim = 16\n",
        "max_length = 120\n",
        "trunc_type = 'post'\n",
        "padding_type = 'post'\n",
        "oov_tok = \"<OOV\"\n",
        "training_portion = .8"
      ],
      "execution_count": null,
      "outputs": []
    },
    {
      "cell_type": "code",
      "metadata": {
        "colab": {
          "base_uri": "https://localhost:8080/"
        },
        "id": "IHE2adlWQ4NH",
        "outputId": "516dc6d3-28ce-42cd-ab4c-ffaf63ff440e"
      },
      "source": [
        "nltk.download('stopwords')"
      ],
      "execution_count": null,
      "outputs": [
        {
          "output_type": "stream",
          "text": [
            "[nltk_data] Downloading package stopwords to /root/nltk_data...\n",
            "[nltk_data]   Package stopwords is already up-to-date!\n"
          ],
          "name": "stdout"
        },
        {
          "output_type": "execute_result",
          "data": {
            "text/plain": [
              "True"
            ]
          },
          "metadata": {
            "tags": []
          },
          "execution_count": 64
        }
      ]
    },
    {
      "cell_type": "code",
      "metadata": {
        "id": "FolqEnbIO5Xh"
      },
      "source": [
        "from nltk.corpus import stopwords "
      ],
      "execution_count": null,
      "outputs": []
    },
    {
      "cell_type": "code",
      "metadata": {
        "id": "p2v8sPrsQbCR"
      },
      "source": [
        "stopwords_english = stopwords.words('english')"
      ],
      "execution_count": null,
      "outputs": []
    },
    {
      "cell_type": "code",
      "metadata": {
        "colab": {
          "base_uri": "https://localhost:8080/"
        },
        "id": "XxfWnJ6kRole",
        "outputId": "602addcf-9145-4e16-d799-4f783c2887e7"
      },
      "source": [
        "stopwords_english"
      ],
      "execution_count": null,
      "outputs": [
        {
          "output_type": "execute_result",
          "data": {
            "text/plain": [
              "['i',\n",
              " 'me',\n",
              " 'my',\n",
              " 'myself',\n",
              " 'we',\n",
              " 'our',\n",
              " 'ours',\n",
              " 'ourselves',\n",
              " 'you',\n",
              " \"you're\",\n",
              " \"you've\",\n",
              " \"you'll\",\n",
              " \"you'd\",\n",
              " 'your',\n",
              " 'yours',\n",
              " 'yourself',\n",
              " 'yourselves',\n",
              " 'he',\n",
              " 'him',\n",
              " 'his',\n",
              " 'himself',\n",
              " 'she',\n",
              " \"she's\",\n",
              " 'her',\n",
              " 'hers',\n",
              " 'herself',\n",
              " 'it',\n",
              " \"it's\",\n",
              " 'its',\n",
              " 'itself',\n",
              " 'they',\n",
              " 'them',\n",
              " 'their',\n",
              " 'theirs',\n",
              " 'themselves',\n",
              " 'what',\n",
              " 'which',\n",
              " 'who',\n",
              " 'whom',\n",
              " 'this',\n",
              " 'that',\n",
              " \"that'll\",\n",
              " 'these',\n",
              " 'those',\n",
              " 'am',\n",
              " 'is',\n",
              " 'are',\n",
              " 'was',\n",
              " 'were',\n",
              " 'be',\n",
              " 'been',\n",
              " 'being',\n",
              " 'have',\n",
              " 'has',\n",
              " 'had',\n",
              " 'having',\n",
              " 'do',\n",
              " 'does',\n",
              " 'did',\n",
              " 'doing',\n",
              " 'a',\n",
              " 'an',\n",
              " 'the',\n",
              " 'and',\n",
              " 'but',\n",
              " 'if',\n",
              " 'or',\n",
              " 'because',\n",
              " 'as',\n",
              " 'until',\n",
              " 'while',\n",
              " 'of',\n",
              " 'at',\n",
              " 'by',\n",
              " 'for',\n",
              " 'with',\n",
              " 'about',\n",
              " 'against',\n",
              " 'between',\n",
              " 'into',\n",
              " 'through',\n",
              " 'during',\n",
              " 'before',\n",
              " 'after',\n",
              " 'above',\n",
              " 'below',\n",
              " 'to',\n",
              " 'from',\n",
              " 'up',\n",
              " 'down',\n",
              " 'in',\n",
              " 'out',\n",
              " 'on',\n",
              " 'off',\n",
              " 'over',\n",
              " 'under',\n",
              " 'again',\n",
              " 'further',\n",
              " 'then',\n",
              " 'once',\n",
              " 'here',\n",
              " 'there',\n",
              " 'when',\n",
              " 'where',\n",
              " 'why',\n",
              " 'how',\n",
              " 'all',\n",
              " 'any',\n",
              " 'both',\n",
              " 'each',\n",
              " 'few',\n",
              " 'more',\n",
              " 'most',\n",
              " 'other',\n",
              " 'some',\n",
              " 'such',\n",
              " 'no',\n",
              " 'nor',\n",
              " 'not',\n",
              " 'only',\n",
              " 'own',\n",
              " 'same',\n",
              " 'so',\n",
              " 'than',\n",
              " 'too',\n",
              " 'very',\n",
              " 's',\n",
              " 't',\n",
              " 'can',\n",
              " 'will',\n",
              " 'just',\n",
              " 'don',\n",
              " \"don't\",\n",
              " 'should',\n",
              " \"should've\",\n",
              " 'now',\n",
              " 'd',\n",
              " 'll',\n",
              " 'm',\n",
              " 'o',\n",
              " 're',\n",
              " 've',\n",
              " 'y',\n",
              " 'ain',\n",
              " 'aren',\n",
              " \"aren't\",\n",
              " 'couldn',\n",
              " \"couldn't\",\n",
              " 'didn',\n",
              " \"didn't\",\n",
              " 'doesn',\n",
              " \"doesn't\",\n",
              " 'hadn',\n",
              " \"hadn't\",\n",
              " 'hasn',\n",
              " \"hasn't\",\n",
              " 'haven',\n",
              " \"haven't\",\n",
              " 'isn',\n",
              " \"isn't\",\n",
              " 'ma',\n",
              " 'mightn',\n",
              " \"mightn't\",\n",
              " 'mustn',\n",
              " \"mustn't\",\n",
              " 'needn',\n",
              " \"needn't\",\n",
              " 'shan',\n",
              " \"shan't\",\n",
              " 'shouldn',\n",
              " \"shouldn't\",\n",
              " 'wasn',\n",
              " \"wasn't\",\n",
              " 'weren',\n",
              " \"weren't\",\n",
              " 'won',\n",
              " \"won't\",\n",
              " 'wouldn',\n",
              " \"wouldn't\"]"
            ]
          },
          "metadata": {
            "tags": []
          },
          "execution_count": 67
        }
      ]
    },
    {
      "cell_type": "code",
      "metadata": {
        "id": "FVoB46AVOEai"
      },
      "source": [
        "sentences = []\n",
        "labels = []\n"
      ],
      "execution_count": null,
      "outputs": []
    },
    {
      "cell_type": "code",
      "metadata": {
        "colab": {
          "base_uri": "https://localhost:8080/"
        },
        "id": "iNkZm4vhPEbp",
        "outputId": "4564a8b3-d6aa-415c-c2b3-71932a34f379"
      },
      "source": [
        "with open(\"/tmp/bbc-text.csv\",'r') as csvfile:\n",
        "  reader = csv.reader(csvfile, delimiter = ',')\n",
        "  next(reader)\n",
        "  for row in reader:\n",
        "    labels.append(row[0])\n",
        "    sentence = row[1]\n",
        "    for word in stopwords_english :\n",
        "      token = \" \" + word + \" \"\n",
        "      sentence = sentence.replace(token,\" \")\n",
        "    sentences.append(sentence)\n",
        "print(len(labels))\n",
        "print(len(sentences))\n",
        "print(sentences[0])\n",
        "\n",
        "\n"
      ],
      "execution_count": null,
      "outputs": [
        {
          "output_type": "stream",
          "text": [
            "2225\n",
            "2225\n",
            "tv future hands viewers home theatre systems  plasma high-definition tvs  digital video recorders moving living room  way people watch tv radically different five years  time.  according expert panel gathered annual consumer electronics show las vegas discuss new technologies impact one favourite pastimes. us leading trend  programmes content delivered viewers via home networks  cable  satellite  telecoms companies  broadband service providers front rooms portable devices.  one talked-about technologies ces digital personal video recorders (dvr pvr). set-top boxes  like us tivo uk sky+ system  allow people record  store  play  pause forward wind tv programmes want.  essentially  technology allows much personalised tv. also built-in high-definition tv sets  big business japan us  slower take europe lack high-definition programming. people forward wind adverts  also forget abiding network channel schedules  putting together a-la-carte entertainment. us networks cable satellite companies worried means terms advertising revenues well  brand identity  viewer loyalty channels. although us leads technology moment  also concern raised europe  particularly growing uptake services like sky+.  happens today  see nine months years  time uk   adam hume  bbc broadcast futurologist told bbc news website. likes bbc  issues lost advertising revenue yet. pressing issue moment commercial uk broadcasters  brand loyalty important everyone.  talking content brands rather network brands   said tim hanlon  brand communications firm starcom mediavest.  reality broadband connections  anybody producer content.  added:  challenge is hard promote programme much choice.   means  said stacey jolna  senior vice president tv guide tv group  way people find content want watch simplified tv viewers. means networks  us terms  channels could take leaf google book search engine future  instead scheduler help people find want watch. kind channel model might work younger ipod generation used taking control gadgets play them. might suit everyone  panel recognised. older generations comfortable familiar schedules channel brands know getting. perhaps want much choice put hands  mr hanlon suggested.  end  kids diapers pushing buttons already - everything possible available   said mr hanlon.  ultimately  consumer tell market want.   50 000 new gadgets technologies showcased ces  many enhancing tv-watching experience. high-definition tv sets everywhere many new models lcd (liquid crystal display) tvs launched dvr capability built  instead external boxes. one example launched show humax 26-inch lcd tv 80-hour tivo dvr dvd recorder. one us biggest satellite tv companies  directtv  even launched branded dvr show 100-hours recording capability  instant replay  search function. set pause rewind tv 90 hours. microsoft chief bill gates announced pre-show keynote speech partnership tivo  called tivotogo  means people play recorded programmes windows pcs mobile devices. reflect increasing trend freeing multimedia people watch want  want.\n"
          ],
          "name": "stdout"
        }
      ]
    },
    {
      "cell_type": "code",
      "metadata": {
        "colab": {
          "base_uri": "https://localhost:8080/"
        },
        "id": "HR6xs79W-4kl",
        "outputId": "fd9ef2cc-d276-410a-b8a2-2f486b495883"
      },
      "source": [
        "print(labels[5])"
      ],
      "execution_count": null,
      "outputs": [
        {
          "output_type": "stream",
          "text": [
            "politics\n"
          ],
          "name": "stdout"
        }
      ]
    },
    {
      "cell_type": "code",
      "metadata": {
        "id": "49ixneKoSeL7"
      },
      "source": [
        "train_size = int(len(sentences) * training_portion)\n",
        "train_sentences = sentences[:train_size]\n",
        "train_labels = labels[:train_size]\n",
        "\n",
        "validation_sentences =  sentences[train_size:]\n",
        "validation_labels = labels[train_size:]\n",
        "\n",
        "validation_size = int(len(sentences) - train_size)\n"
      ],
      "execution_count": null,
      "outputs": []
    },
    {
      "cell_type": "code",
      "metadata": {
        "colab": {
          "base_uri": "https://localhost:8080/"
        },
        "id": "uH-bB36D_cM_",
        "outputId": "d0aa65c8-bb97-4aad-faf4-799d5df064fe"
      },
      "source": [
        "print(train_size)\n",
        "print(len(train_sentences))\n",
        "print(len(train_labels))\n",
        "print(len(validation_sentences))\n",
        "print(len(validation_labels))\n",
        "print(validation_size)"
      ],
      "execution_count": null,
      "outputs": [
        {
          "output_type": "stream",
          "text": [
            "1780\n",
            "1780\n",
            "1780\n",
            "445\n",
            "445\n",
            "445\n"
          ],
          "name": "stdout"
        }
      ]
    },
    {
      "cell_type": "code",
      "metadata": {
        "id": "RUQ7bwaVAB5d"
      },
      "source": [
        "tokenizer = Tokenizer(num_words = voc_size , oov_token= oov_tok)\n",
        "tokenizer.fit_on_texts(train_sentences)\n",
        "word_index = tokenizer.word_index\n",
        "\n",
        "train_sentences = tokenizer.texts_to_sequences(train_sentences)\n",
        "training_padded = pad_sequences(sequences = train_sentences , padding = padding_type , maxlen= max_length)\n",
        "\n",
        "\n"
      ],
      "execution_count": null,
      "outputs": []
    },
    {
      "cell_type": "code",
      "metadata": {
        "colab": {
          "base_uri": "https://localhost:8080/"
        },
        "id": "drnUd9w4CPm6",
        "outputId": "d90ec03c-91e3-43da-c64b-4b80c2196dd2"
      },
      "source": [
        "print(len(training_padded[0]))\n",
        "print(len(train_sentences[0]))"
      ],
      "execution_count": null,
      "outputs": [
        {
          "output_type": "stream",
          "text": [
            "120\n",
            "426\n"
          ],
          "name": "stdout"
        }
      ]
    },
    {
      "cell_type": "code",
      "metadata": {
        "id": "UugYfEPgLe21"
      },
      "source": [
        "validation_sentences = tokenizer.texts_to_sequences(validation_sentences)\n",
        "validation_padded = pad_sequences(sequences = validation_sentences , padding = padding_type , maxlen= max_length)"
      ],
      "execution_count": null,
      "outputs": []
    },
    {
      "cell_type": "code",
      "metadata": {
        "colab": {
          "base_uri": "https://localhost:8080/"
        },
        "id": "M6x844WuLtH0",
        "outputId": "decd2520-167f-46d0-c189-7ddbbb5ea758"
      },
      "source": [
        "print(len(validation_padded[0]))\n",
        "print(len(validation_sentences[0]))"
      ],
      "execution_count": null,
      "outputs": [
        {
          "output_type": "stream",
          "text": [
            "120\n",
            "156\n"
          ],
          "name": "stdout"
        }
      ]
    },
    {
      "cell_type": "code",
      "metadata": {
        "id": "tJ3FBKb1LygU"
      },
      "source": [
        "label_tokenizer = Tokenizer()\n",
        "label_tokenizer.fit_on_texts(labels)\n",
        "\n",
        "training_label_seq = np.array(label_tokenizer.texts_to_sequences(train_labels))\n",
        "validation_label_seq = np.array(label_tokenizer.texts_to_sequences(validation_labels))\n"
      ],
      "execution_count": null,
      "outputs": []
    },
    {
      "cell_type": "code",
      "metadata": {
        "colab": {
          "base_uri": "https://localhost:8080/"
        },
        "id": "W5GRaScTM6gT",
        "outputId": "a8acde31-bfe4-463d-a2ea-d91dc06ada46"
      },
      "source": [
        "print(training_label_seq[0])\n",
        "print(validation_label_seq[0])"
      ],
      "execution_count": null,
      "outputs": [
        {
          "output_type": "stream",
          "text": [
            "[4]\n",
            "[5]\n"
          ],
          "name": "stdout"
        }
      ]
    },
    {
      "cell_type": "code",
      "metadata": {
        "colab": {
          "base_uri": "https://localhost:8080/"
        },
        "id": "c58_LltcM0zq",
        "outputId": "ddf28eac-1dfe-47e9-9666-c42a89de013a"
      },
      "source": [
        "model = tf.keras.Sequential([\n",
        "        tf.keras.layers.Embedding(voc_size,embedding_dim ,input_length= max_length),\n",
        "        tf.keras.layers.GlobalAveragePooling1D(),\n",
        "        tf.keras.layers.Dense(24,activation='relu'),\n",
        "        tf.keras.layers.Dense(6,activation='softmax')\n",
        "]                           \n",
        ")\n",
        "model.compile(loss = 'sparse_categorical_crossentropy',optimizer = 'Adam',metrics = ['accuracy'])\n",
        "model.summary()"
      ],
      "execution_count": null,
      "outputs": [
        {
          "output_type": "stream",
          "text": [
            "Model: \"sequential_2\"\n",
            "_________________________________________________________________\n",
            "Layer (type)                 Output Shape              Param #   \n",
            "=================================================================\n",
            "embedding_3 (Embedding)      (None, 120, 16)           16000     \n",
            "_________________________________________________________________\n",
            "global_average_pooling1d_2 ( (None, 16)                0         \n",
            "_________________________________________________________________\n",
            "dense_4 (Dense)              (None, 24)                408       \n",
            "_________________________________________________________________\n",
            "dense_5 (Dense)              (None, 6)                 150       \n",
            "=================================================================\n",
            "Total params: 16,558\n",
            "Trainable params: 16,558\n",
            "Non-trainable params: 0\n",
            "_________________________________________________________________\n"
          ],
          "name": "stdout"
        }
      ]
    },
    {
      "cell_type": "code",
      "metadata": {
        "id": "LCDpScrkkPK8"
      },
      "source": [
        "from keras.callbacks import ModelCheckpoint,EarlyStopping\n",
        "checkpointer = ModelCheckpoint('text_classification_model.hdf5', monitor='val_loss', verbose=1, save_best_only=True)"
      ],
      "execution_count": null,
      "outputs": []
    },
    {
      "cell_type": "code",
      "metadata": {
        "colab": {
          "base_uri": "https://localhost:8080/"
        },
        "id": "TfO_r_3akV3j",
        "outputId": "d1ba7c23-9b32-46e2-b498-01720effa030"
      },
      "source": [
        "history = model.fit(training_padded,\n",
        "                    training_label_seq,\n",
        "                    batch_size= 64,\n",
        "                    callbacks=[checkpointer],\n",
        "                    epochs =50, \n",
        "                    verbose = 1,\n",
        "                    shuffle=True,\n",
        "                    validation_data=(validation_padded , validation_label_seq))"
      ],
      "execution_count": null,
      "outputs": [
        {
          "output_type": "stream",
          "text": [
            "Epoch 1/50\n",
            "16/28 [================>.............] - ETA: 0s - loss: 1.7810 - accuracy: 0.1963\n",
            "Epoch 00001: val_loss improved from inf to 1.75689, saving model to text_classification_model.hdf5\n",
            "28/28 [==============================] - 0s 9ms/step - loss: 1.7743 - accuracy: 0.1865 - val_loss: 1.7569 - val_accuracy: 0.1955\n",
            "Epoch 2/50\n",
            "16/28 [================>.............] - ETA: 0s - loss: 1.7472 - accuracy: 0.2490\n",
            "Epoch 00002: val_loss improved from 1.75689 to 1.71843, saving model to text_classification_model.hdf5\n",
            "28/28 [==============================] - 0s 5ms/step - loss: 1.7384 - accuracy: 0.2949 - val_loss: 1.7184 - val_accuracy: 0.3596\n",
            "Epoch 3/50\n",
            "17/28 [=================>............] - ETA: 0s - loss: 1.7042 - accuracy: 0.3438\n",
            "Epoch 00003: val_loss improved from 1.71843 to 1.67255, saving model to text_classification_model.hdf5\n",
            "28/28 [==============================] - 0s 5ms/step - loss: 1.6950 - accuracy: 0.3500 - val_loss: 1.6726 - val_accuracy: 0.2831\n",
            "Epoch 4/50\n",
            "17/28 [=================>............] - ETA: 0s - loss: 1.6610 - accuracy: 0.2619\n",
            "Epoch 00004: val_loss improved from 1.67255 to 1.62553, saving model to text_classification_model.hdf5\n",
            "28/28 [==============================] - 0s 5ms/step - loss: 1.6462 - accuracy: 0.2899 - val_loss: 1.6255 - val_accuracy: 0.3483\n",
            "Epoch 5/50\n",
            "15/28 [===============>..............] - ETA: 0s - loss: 1.6039 - accuracy: 0.3844\n",
            "Epoch 00005: val_loss improved from 1.62553 to 1.57291, saving model to text_classification_model.hdf5\n",
            "28/28 [==============================] - 0s 5ms/step - loss: 1.5947 - accuracy: 0.3961 - val_loss: 1.5729 - val_accuracy: 0.4472\n",
            "Epoch 6/50\n",
            "16/28 [================>.............] - ETA: 0s - loss: 1.5488 - accuracy: 0.4561\n",
            "Epoch 00006: val_loss improved from 1.57291 to 1.51455, saving model to text_classification_model.hdf5\n",
            "28/28 [==============================] - 0s 5ms/step - loss: 1.5359 - accuracy: 0.4730 - val_loss: 1.5146 - val_accuracy: 0.4584\n",
            "Epoch 7/50\n",
            "17/28 [=================>............] - ETA: 0s - loss: 1.4776 - accuracy: 0.4798\n",
            "Epoch 00007: val_loss improved from 1.51455 to 1.44480, saving model to text_classification_model.hdf5\n",
            "28/28 [==============================] - 0s 5ms/step - loss: 1.4676 - accuracy: 0.4848 - val_loss: 1.4448 - val_accuracy: 0.5101\n",
            "Epoch 8/50\n",
            "17/28 [=================>............] - ETA: 0s - loss: 1.3930 - accuracy: 0.5551\n",
            "Epoch 00008: val_loss improved from 1.44480 to 1.35797, saving model to text_classification_model.hdf5\n",
            "28/28 [==============================] - 0s 5ms/step - loss: 1.3825 - accuracy: 0.5427 - val_loss: 1.3580 - val_accuracy: 0.5416\n",
            "Epoch 9/50\n",
            "16/28 [================>.............] - ETA: 0s - loss: 1.3191 - accuracy: 0.5645\n",
            "Epoch 00009: val_loss improved from 1.35797 to 1.26125, saving model to text_classification_model.hdf5\n",
            "28/28 [==============================] - 0s 5ms/step - loss: 1.2813 - accuracy: 0.5764 - val_loss: 1.2613 - val_accuracy: 0.5618\n",
            "Epoch 10/50\n",
            "17/28 [=================>............] - ETA: 0s - loss: 1.1935 - accuracy: 0.6020\n",
            "Epoch 00010: val_loss improved from 1.26125 to 1.16080, saving model to text_classification_model.hdf5\n",
            "28/28 [==============================] - 0s 5ms/step - loss: 1.1737 - accuracy: 0.6135 - val_loss: 1.1608 - val_accuracy: 0.5978\n",
            "Epoch 11/50\n",
            "15/28 [===============>..............] - ETA: 0s - loss: 1.0899 - accuracy: 0.6313\n",
            "Epoch 00011: val_loss improved from 1.16080 to 1.06249, saving model to text_classification_model.hdf5\n",
            "28/28 [==============================] - 0s 5ms/step - loss: 1.0646 - accuracy: 0.6376 - val_loss: 1.0625 - val_accuracy: 0.6225\n",
            "Epoch 12/50\n",
            "16/28 [================>.............] - ETA: 0s - loss: 0.9840 - accuracy: 0.6748\n",
            "Epoch 00012: val_loss improved from 1.06249 to 0.97455, saving model to text_classification_model.hdf5\n",
            "28/28 [==============================] - 0s 5ms/step - loss: 0.9625 - accuracy: 0.6848 - val_loss: 0.9745 - val_accuracy: 0.6764\n",
            "Epoch 13/50\n",
            "17/28 [=================>............] - ETA: 0s - loss: 0.8994 - accuracy: 0.7031\n",
            "Epoch 00013: val_loss improved from 0.97455 to 0.89658, saving model to text_classification_model.hdf5\n",
            "28/28 [==============================] - 0s 5ms/step - loss: 0.8724 - accuracy: 0.7270 - val_loss: 0.8966 - val_accuracy: 0.6921\n",
            "Epoch 14/50\n",
            "17/28 [=================>............] - ETA: 0s - loss: 0.7954 - accuracy: 0.7638\n",
            "Epoch 00014: val_loss improved from 0.89658 to 0.82146, saving model to text_classification_model.hdf5\n",
            "28/28 [==============================] - 0s 5ms/step - loss: 0.7907 - accuracy: 0.7697 - val_loss: 0.8215 - val_accuracy: 0.7798\n",
            "Epoch 15/50\n",
            "16/28 [================>.............] - ETA: 0s - loss: 0.7217 - accuracy: 0.8613\n",
            "Epoch 00015: val_loss improved from 0.82146 to 0.74715, saving model to text_classification_model.hdf5\n",
            "28/28 [==============================] - 0s 5ms/step - loss: 0.7111 - accuracy: 0.8590 - val_loss: 0.7472 - val_accuracy: 0.8315\n",
            "Epoch 16/50\n",
            "17/28 [=================>............] - ETA: 0s - loss: 0.6536 - accuracy: 0.8851\n",
            "Epoch 00016: val_loss improved from 0.74715 to 0.67739, saving model to text_classification_model.hdf5\n",
            "28/28 [==============================] - 0s 5ms/step - loss: 0.6343 - accuracy: 0.9000 - val_loss: 0.6774 - val_accuracy: 0.8427\n",
            "Epoch 17/50\n",
            "16/28 [================>.............] - ETA: 0s - loss: 0.5833 - accuracy: 0.9131\n",
            "Epoch 00017: val_loss improved from 0.67739 to 0.61372, saving model to text_classification_model.hdf5\n",
            "28/28 [==============================] - 0s 5ms/step - loss: 0.5635 - accuracy: 0.9174 - val_loss: 0.6137 - val_accuracy: 0.8674\n",
            "Epoch 18/50\n",
            "16/28 [================>.............] - ETA: 0s - loss: 0.4853 - accuracy: 0.9346\n",
            "Epoch 00018: val_loss improved from 0.61372 to 0.55374, saving model to text_classification_model.hdf5\n",
            "28/28 [==============================] - 0s 5ms/step - loss: 0.4962 - accuracy: 0.9287 - val_loss: 0.5537 - val_accuracy: 0.8787\n",
            "Epoch 19/50\n",
            "16/28 [================>.............] - ETA: 0s - loss: 0.4383 - accuracy: 0.9443\n",
            "Epoch 00019: val_loss improved from 0.55374 to 0.50110, saving model to text_classification_model.hdf5\n",
            "28/28 [==============================] - 0s 5ms/step - loss: 0.4361 - accuracy: 0.9404 - val_loss: 0.5011 - val_accuracy: 0.8989\n",
            "Epoch 20/50\n",
            "17/28 [=================>............] - ETA: 0s - loss: 0.3867 - accuracy: 0.9485\n",
            "Epoch 00020: val_loss improved from 0.50110 to 0.45598, saving model to text_classification_model.hdf5\n",
            "28/28 [==============================] - 0s 5ms/step - loss: 0.3837 - accuracy: 0.9455 - val_loss: 0.4560 - val_accuracy: 0.9056\n",
            "Epoch 21/50\n",
            "17/28 [=================>............] - ETA: 0s - loss: 0.3489 - accuracy: 0.9522\n",
            "Epoch 00021: val_loss improved from 0.45598 to 0.42118, saving model to text_classification_model.hdf5\n",
            "28/28 [==============================] - 0s 5ms/step - loss: 0.3391 - accuracy: 0.9551 - val_loss: 0.4212 - val_accuracy: 0.9101\n",
            "Epoch 22/50\n",
            "16/28 [================>.............] - ETA: 0s - loss: 0.3136 - accuracy: 0.9531\n",
            "Epoch 00022: val_loss improved from 0.42118 to 0.38752, saving model to text_classification_model.hdf5\n",
            "28/28 [==============================] - 0s 5ms/step - loss: 0.3024 - accuracy: 0.9573 - val_loss: 0.3875 - val_accuracy: 0.9124\n",
            "Epoch 23/50\n",
            "17/28 [=================>............] - ETA: 0s - loss: 0.2683 - accuracy: 0.9632\n",
            "Epoch 00023: val_loss improved from 0.38752 to 0.36269, saving model to text_classification_model.hdf5\n",
            "28/28 [==============================] - 0s 5ms/step - loss: 0.2699 - accuracy: 0.9629 - val_loss: 0.3627 - val_accuracy: 0.9169\n",
            "Epoch 24/50\n",
            "14/28 [==============>...............] - ETA: 0s - loss: 0.2567 - accuracy: 0.9632\n",
            "Epoch 00024: val_loss improved from 0.36269 to 0.34002, saving model to text_classification_model.hdf5\n",
            "28/28 [==============================] - 0s 5ms/step - loss: 0.2441 - accuracy: 0.9657 - val_loss: 0.3400 - val_accuracy: 0.9169\n",
            "Epoch 25/50\n",
            "15/28 [===============>..............] - ETA: 0s - loss: 0.2278 - accuracy: 0.9615\n",
            "Epoch 00025: val_loss improved from 0.34002 to 0.32304, saving model to text_classification_model.hdf5\n",
            "28/28 [==============================] - 0s 5ms/step - loss: 0.2209 - accuracy: 0.9657 - val_loss: 0.3230 - val_accuracy: 0.9236\n",
            "Epoch 26/50\n",
            "16/28 [================>.............] - ETA: 0s - loss: 0.2100 - accuracy: 0.9668\n",
            "Epoch 00026: val_loss improved from 0.32304 to 0.30768, saving model to text_classification_model.hdf5\n",
            "28/28 [==============================] - 0s 5ms/step - loss: 0.2018 - accuracy: 0.9691 - val_loss: 0.3077 - val_accuracy: 0.9191\n",
            "Epoch 27/50\n",
            "16/28 [================>.............] - ETA: 0s - loss: 0.1929 - accuracy: 0.9717\n",
            "Epoch 00027: val_loss improved from 0.30768 to 0.29596, saving model to text_classification_model.hdf5\n",
            "28/28 [==============================] - 0s 5ms/step - loss: 0.1845 - accuracy: 0.9725 - val_loss: 0.2960 - val_accuracy: 0.9258\n",
            "Epoch 28/50\n",
            "17/28 [=================>............] - ETA: 0s - loss: 0.1774 - accuracy: 0.9706\n",
            "Epoch 00028: val_loss improved from 0.29596 to 0.28308, saving model to text_classification_model.hdf5\n",
            "28/28 [==============================] - 0s 5ms/step - loss: 0.1702 - accuracy: 0.9730 - val_loss: 0.2831 - val_accuracy: 0.9258\n",
            "Epoch 29/50\n",
            "16/28 [================>.............] - ETA: 0s - loss: 0.1575 - accuracy: 0.9756\n",
            "Epoch 00029: val_loss improved from 0.28308 to 0.27649, saving model to text_classification_model.hdf5\n",
            "28/28 [==============================] - 0s 5ms/step - loss: 0.1568 - accuracy: 0.9742 - val_loss: 0.2765 - val_accuracy: 0.9258\n",
            "Epoch 30/50\n",
            "16/28 [================>.............] - ETA: 0s - loss: 0.1485 - accuracy: 0.9785\n",
            "Epoch 00030: val_loss improved from 0.27649 to 0.26679, saving model to text_classification_model.hdf5\n",
            "28/28 [==============================] - 0s 5ms/step - loss: 0.1458 - accuracy: 0.9764 - val_loss: 0.2668 - val_accuracy: 0.9281\n",
            "Epoch 31/50\n",
            "28/28 [==============================] - ETA: 0s - loss: 0.1356 - accuracy: 0.9764\n",
            "Epoch 00031: val_loss improved from 0.26679 to 0.26263, saving model to text_classification_model.hdf5\n",
            "28/28 [==============================] - 0s 5ms/step - loss: 0.1356 - accuracy: 0.9764 - val_loss: 0.2626 - val_accuracy: 0.9236\n",
            "Epoch 32/50\n",
            "15/28 [===============>..............] - ETA: 0s - loss: 0.1339 - accuracy: 0.9792\n",
            "Epoch 00032: val_loss improved from 0.26263 to 0.25530, saving model to text_classification_model.hdf5\n",
            "28/28 [==============================] - 0s 5ms/step - loss: 0.1261 - accuracy: 0.9781 - val_loss: 0.2553 - val_accuracy: 0.9281\n",
            "Epoch 33/50\n",
            "16/28 [================>.............] - ETA: 0s - loss: 0.1178 - accuracy: 0.9775\n",
            "Epoch 00033: val_loss improved from 0.25530 to 0.24973, saving model to text_classification_model.hdf5\n",
            "28/28 [==============================] - 0s 5ms/step - loss: 0.1179 - accuracy: 0.9792 - val_loss: 0.2497 - val_accuracy: 0.9258\n",
            "Epoch 34/50\n",
            "16/28 [================>.............] - ETA: 0s - loss: 0.1064 - accuracy: 0.9834\n",
            "Epoch 00034: val_loss improved from 0.24973 to 0.24599, saving model to text_classification_model.hdf5\n",
            "28/28 [==============================] - 0s 5ms/step - loss: 0.1100 - accuracy: 0.9815 - val_loss: 0.2460 - val_accuracy: 0.9303\n",
            "Epoch 35/50\n",
            "17/28 [=================>............] - ETA: 0s - loss: 0.1027 - accuracy: 0.9871\n",
            "Epoch 00035: val_loss improved from 0.24599 to 0.24308, saving model to text_classification_model.hdf5\n",
            "28/28 [==============================] - 0s 5ms/step - loss: 0.1029 - accuracy: 0.9837 - val_loss: 0.2431 - val_accuracy: 0.9281\n",
            "Epoch 36/50\n",
            "17/28 [=================>............] - ETA: 0s - loss: 0.1022 - accuracy: 0.9871\n",
            "Epoch 00036: val_loss improved from 0.24308 to 0.23851, saving model to text_classification_model.hdf5\n",
            "28/28 [==============================] - 0s 5ms/step - loss: 0.0968 - accuracy: 0.9860 - val_loss: 0.2385 - val_accuracy: 0.9303\n",
            "Epoch 37/50\n",
            "16/28 [================>.............] - ETA: 0s - loss: 0.0941 - accuracy: 0.9854\n",
            "Epoch 00037: val_loss improved from 0.23851 to 0.23552, saving model to text_classification_model.hdf5\n",
            "28/28 [==============================] - 0s 5ms/step - loss: 0.0904 - accuracy: 0.9882 - val_loss: 0.2355 - val_accuracy: 0.9326\n",
            "Epoch 38/50\n",
            "15/28 [===============>..............] - ETA: 0s - loss: 0.0885 - accuracy: 0.9854\n",
            "Epoch 00038: val_loss improved from 0.23552 to 0.23371, saving model to text_classification_model.hdf5\n",
            "28/28 [==============================] - 0s 5ms/step - loss: 0.0851 - accuracy: 0.9888 - val_loss: 0.2337 - val_accuracy: 0.9326\n",
            "Epoch 39/50\n",
            "15/28 [===============>..............] - ETA: 0s - loss: 0.0805 - accuracy: 0.9885\n",
            "Epoch 00039: val_loss improved from 0.23371 to 0.22956, saving model to text_classification_model.hdf5\n",
            "28/28 [==============================] - 0s 5ms/step - loss: 0.0799 - accuracy: 0.9899 - val_loss: 0.2296 - val_accuracy: 0.9371\n",
            "Epoch 40/50\n",
            "16/28 [================>.............] - ETA: 0s - loss: 0.0744 - accuracy: 0.9932\n",
            "Epoch 00040: val_loss improved from 0.22956 to 0.22917, saving model to text_classification_model.hdf5\n",
            "28/28 [==============================] - 0s 5ms/step - loss: 0.0750 - accuracy: 0.9921 - val_loss: 0.2292 - val_accuracy: 0.9371\n",
            "Epoch 41/50\n",
            "15/28 [===============>..............] - ETA: 0s - loss: 0.0665 - accuracy: 0.9948\n",
            "Epoch 00041: val_loss improved from 0.22917 to 0.22614, saving model to text_classification_model.hdf5\n",
            "28/28 [==============================] - 0s 5ms/step - loss: 0.0706 - accuracy: 0.9944 - val_loss: 0.2261 - val_accuracy: 0.9371\n",
            "Epoch 42/50\n",
            "16/28 [================>.............] - ETA: 0s - loss: 0.0683 - accuracy: 0.9971\n",
            "Epoch 00042: val_loss improved from 0.22614 to 0.22431, saving model to text_classification_model.hdf5\n",
            "28/28 [==============================] - 0s 5ms/step - loss: 0.0663 - accuracy: 0.9949 - val_loss: 0.2243 - val_accuracy: 0.9371\n",
            "Epoch 43/50\n",
            "17/28 [=================>............] - ETA: 0s - loss: 0.0620 - accuracy: 0.9954\n",
            "Epoch 00043: val_loss improved from 0.22431 to 0.22404, saving model to text_classification_model.hdf5\n",
            "28/28 [==============================] - 0s 5ms/step - loss: 0.0627 - accuracy: 0.9955 - val_loss: 0.2240 - val_accuracy: 0.9348\n",
            "Epoch 44/50\n",
            "17/28 [=================>............] - ETA: 0s - loss: 0.0576 - accuracy: 0.9963\n",
            "Epoch 00044: val_loss improved from 0.22404 to 0.22176, saving model to text_classification_model.hdf5\n",
            "28/28 [==============================] - 0s 5ms/step - loss: 0.0588 - accuracy: 0.9961 - val_loss: 0.2218 - val_accuracy: 0.9371\n",
            "Epoch 45/50\n",
            "16/28 [================>.............] - ETA: 0s - loss: 0.0553 - accuracy: 0.9961\n",
            "Epoch 00045: val_loss improved from 0.22176 to 0.21993, saving model to text_classification_model.hdf5\n",
            "28/28 [==============================] - 0s 5ms/step - loss: 0.0555 - accuracy: 0.9961 - val_loss: 0.2199 - val_accuracy: 0.9371\n",
            "Epoch 46/50\n",
            "15/28 [===============>..............] - ETA: 0s - loss: 0.0553 - accuracy: 0.9969\n",
            "Epoch 00046: val_loss improved from 0.21993 to 0.21938, saving model to text_classification_model.hdf5\n",
            "28/28 [==============================] - 0s 5ms/step - loss: 0.0525 - accuracy: 0.9972 - val_loss: 0.2194 - val_accuracy: 0.9371\n",
            "Epoch 47/50\n",
            "15/28 [===============>..............] - ETA: 0s - loss: 0.0519 - accuracy: 0.9979\n",
            "Epoch 00047: val_loss improved from 0.21938 to 0.21867, saving model to text_classification_model.hdf5\n",
            "28/28 [==============================] - 0s 5ms/step - loss: 0.0494 - accuracy: 0.9972 - val_loss: 0.2187 - val_accuracy: 0.9348\n",
            "Epoch 48/50\n",
            "16/28 [================>.............] - ETA: 0s - loss: 0.0476 - accuracy: 0.9971\n",
            "Epoch 00048: val_loss improved from 0.21867 to 0.21795, saving model to text_classification_model.hdf5\n",
            "28/28 [==============================] - 0s 5ms/step - loss: 0.0466 - accuracy: 0.9972 - val_loss: 0.2179 - val_accuracy: 0.9371\n",
            "Epoch 49/50\n",
            "17/28 [=================>............] - ETA: 0s - loss: 0.0447 - accuracy: 0.9982\n",
            "Epoch 00049: val_loss improved from 0.21795 to 0.21757, saving model to text_classification_model.hdf5\n",
            "28/28 [==============================] - 0s 5ms/step - loss: 0.0443 - accuracy: 0.9978 - val_loss: 0.2176 - val_accuracy: 0.9393\n",
            "Epoch 50/50\n",
            "15/28 [===============>..............] - ETA: 0s - loss: 0.0443 - accuracy: 0.9969\n",
            "Epoch 00050: val_loss did not improve from 0.21757\n",
            "28/28 [==============================] - 0s 5ms/step - loss: 0.0417 - accuracy: 0.9978 - val_loss: 0.2179 - val_accuracy: 0.9348\n"
          ],
          "name": "stdout"
        }
      ]
    },
    {
      "cell_type": "code",
      "metadata": {
        "colab": {
          "base_uri": "https://localhost:8080/",
          "height": 541
        },
        "id": "KeMMNN3ndQF9",
        "outputId": "c0b1c700-f25a-4380-dbf9-e15d6131939e"
      },
      "source": [
        "import matplotlib.pyplot as plt\n",
        "\n",
        "def plot_graphs(history,string):\n",
        "  plt.plot(history.history[string])\n",
        "  plt.plot(history.history['val_'+string])\n",
        "  plt.xlabel(\"epochs\")\n",
        "  plt.ylabel(string)\n",
        "  plt.legend([string,'val_'+string])\n",
        "  plt.show()\n",
        "\n",
        "plot_graphs(history,\"accuracy\")\n",
        "plot_graphs(history,\"loss\")\n"
      ],
      "execution_count": null,
      "outputs": [
        {
          "output_type": "display_data",
          "data": {
            "image/png": "[encoded data removed]",
            "text/plain": [
              "<Figure size 432x288 with 1 Axes>"
            ]
          },
          "metadata": {
            "tags": [],
            "needs_background": "light"
          }
        },
        {
          "output_type": "display_data",
          "data": {
            "image/png": "[encoded data removed]",
            "text/plain": [
              "<Figure size 432x288 with 1 Axes>"
            ]
          },
          "metadata": {
            "tags": [],
            "needs_background": "light"
          }
        }
      ]
    },
    {
      "cell_type": "code",
      "metadata": {
        "id": "z2QA0a0Wk41L"
      },
      "source": [
        "!cp /content/text_classification_model.hdf5 /content/drive/My\\ Drive"
      ],
      "execution_count": null,
      "outputs": []
    }
  ]
}